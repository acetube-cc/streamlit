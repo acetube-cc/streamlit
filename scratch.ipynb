{
 "cells": [
  {
   "cell_type": "code",
   "execution_count": 1,
   "metadata": {},
   "outputs": [
    {
     "name": "stdout",
     "output_type": "stream",
     "text": [
      "The capital of France is **Paris**.\n"
     ]
    }
   ],
   "source": [
    "import os\n",
    "from openai import OpenAI\n",
    "from summarize_tube.settings import Settings\n",
    "\n",
    "settings = Settings()\n",
    "\n",
    "endpoint = \"https://models.inference.ai.azure.com\"\n",
    "model_name = \"gpt-4o\"\n",
    "\n",
    "client = OpenAI(\n",
    "    base_url=endpoint,\n",
    "    api_key=settings.github_token,\n",
    ")\n",
    "\n",
    "response = client.chat.completions.create(\n",
    "    messages=[\n",
    "        {\n",
    "            \"role\": \"system\",\n",
    "            \"content\": \"You are a helpful assistant.\",\n",
    "        },\n",
    "        {\n",
    "            \"role\": \"user\",\n",
    "            \"content\": \"What is the capital of France?\",\n",
    "        }\n",
    "    ],\n",
    "    temperature=1.0,\n",
    "    top_p=1.0,\n",
    "    max_tokens=1000,\n",
    "    model=model_name\n",
    ")\n",
    "\n",
    "print(response.choices[0].message.content)"
   ]
  },
  {
   "cell_type": "code",
   "execution_count": 9,
   "metadata": {},
   "outputs": [],
   "source": [
    "client = OpenAI()"
   ]
  },
  {
   "cell_type": "code",
   "execution_count": null,
   "metadata": {},
   "outputs": [],
   "source": [
    "class SummeryTube(BaseModel):\n",
    "    title: str = Field(\n",
    "        description=\"The title of the video. A title of at most 60 characters based on the transcript\"\n",
    "    )\n",
    "    description: str = Field(\n",
    "        description=(\n",
    "            \"The description of the video. A description for the video of at most \"\n",
    "            \"250 characters based on the transcript\"\n",
    "        )\n",
    "    )\n",
    "    hashtags: list[str] = Field(\n",
    "        description=\"The hashtags for the video. A list of 12 hashtags recommended for the video\",\n",
    "    )"
   ]
  },
  {
   "cell_type": "code",
   "execution_count": 10,
   "metadata": {},
   "outputs": [],
   "source": [
    "completion = client.beta.chat.completions.parse(\n",
    "    model=\"gpt-4o-2024-08-06\",\n",
    "    messages=[\n",
    "        {\"role\": \"system\", \"content\": \"Extract the event information.\"},\n",
    "        {\"role\": \"user\", \"content\": \"AI learning seminar, October 20.\"},\n",
    "    ],\n",
    "    response_format=SummeryTube,\n",
    ")\n",
    "\n",
    "event = completion.choices[0].message.parsed"
   ]
  },
  {
   "cell_type": "code",
   "execution_count": 11,
   "metadata": {},
   "outputs": [
    {
     "data": {
      "text/plain": [
       "SummeryTube(title='AI Learning Seminar on October 20th', description='Join us for an insightful seminar on AI learning on October 20. Dive into the latest advancements and techniques in artificial intelligence with industry experts.', hashtags=['#AILearning', '#Seminar2023', '#ArtificialIntelligence', '#TechEvents', '#October20', '#Innovation', '#TechTalks', '#LearningAI', '#AICommunity', '#FutureTech', '#IndustryExperts', '#AIAdvancements'])"
      ]
     },
     "execution_count": 11,
     "metadata": {},
     "output_type": "execute_result"
    }
   ],
   "source": [
    "event"
   ]
  }
 ],
 "metadata": {
  "kernelspec": {
   "display_name": "summarize-tube-J-laHiI1-py3.12",
   "language": "python",
   "name": "python3"
  },
  "language_info": {
   "codemirror_mode": {
    "name": "ipython",
    "version": 3
   },
   "file_extension": ".py",
   "mimetype": "text/x-python",
   "name": "python",
   "nbconvert_exporter": "python",
   "pygments_lexer": "ipython3",
   "version": "3.12.8"
  }
 },
 "nbformat": 4,
 "nbformat_minor": 2
}
